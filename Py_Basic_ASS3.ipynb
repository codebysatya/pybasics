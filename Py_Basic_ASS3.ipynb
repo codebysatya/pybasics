{
 "cells": [
  {
   "cell_type": "markdown",
   "id": "dd5f3719-bbf7-4b80-a605-b546fac3c372",
   "metadata": {},
   "source": [
    "# Assignment_1_Python Basics"
   ]
  },
  {
   "cell_type": "markdown",
   "id": "52152156-4795-407f-b382-1b493fc09457",
   "metadata": {},
   "source": [
    "1. Why are functions advantageous to have in your programs?"
   ]
  },
  {
   "cell_type": "code",
   "execution_count": null,
   "id": "3796912a-c8a0-40df-a0fb-911b15600f33",
   "metadata": {},
   "outputs": [],
   "source": [
    "Ans:\n",
    "1. Modularity and Reusability: Functions allow breaking down tasks into smaller, reusable code blocks.\n",
    "\n",
    "2. Code Organization and Readability: Functions make code more organized and readable.\n",
    "\n",
    "3. Abstraction and Encapsulation: Functions hide implementation details and provide a higher-level interface.\n",
    "\n",
    "4. Code Reusability and Maintainability: Functions promote reusing code, reducing duplication, and making maintenance easier.\n",
    "\n",
    "5. Testing and Debugging: Functions facilitate independent testing and easier debugging.\n",
    "\n",
    "6. Collaboration and Teamwork: Functions enable parallel development and clear boundaries for collaboration."
   ]
  },
  {
   "cell_type": "markdown",
   "id": "9af69ce4-93db-47b2-9a20-0080a6105e75",
   "metadata": {},
   "source": [
    "2. When does the code in a function run: when it&#39;s specified or when it&#39;s called?"
   ]
  },
  {
   "cell_type": "code",
   "execution_count": null,
   "id": "90c0685a-678a-4d30-9c29-5cce87da8fc1",
   "metadata": {},
   "outputs": [],
   "source": [
    "Ans: The code in a function run when its called."
   ]
  },
  {
   "cell_type": "markdown",
   "id": "feb5d007-2e83-4adc-abc5-08f214be0f70",
   "metadata": {},
   "source": [
    "3. What statement creates a function?"
   ]
  },
  {
   "cell_type": "code",
   "execution_count": 30,
   "id": "0e26f5e2-1baf-4127-bc45-4f177811b51a",
   "metadata": {},
   "outputs": [],
   "source": [
    "#ANS: statement which creates a function is \"def\".\n",
    "#example:\n",
    "\n",
    "def func1():\n",
    "    pass"
   ]
  },
  {
   "cell_type": "markdown",
   "id": "b3482e18-9be2-4b85-aabf-97b818e141e8",
   "metadata": {},
   "source": [
    "4. What is the difference between a function and a function call?"
   ]
  },
  {
   "cell_type": "code",
   "execution_count": null,
   "id": "4958dfe3-7641-46f8-8b68-4bbdaa3c73ea",
   "metadata": {},
   "outputs": [],
   "source": [
    "Ans: a function is a block of code that defines a specific task, while a function call is the actual execution of that function,\n",
    "invoking its behavior at a particular point in the program. Functions are defined with the def statement, and function calls are\n",
    "made using the function's name followed by parentheses."
   ]
  },
  {
   "cell_type": "markdown",
   "id": "cbd87c66-21b7-4bdc-bf33-0e46bf5f6400",
   "metadata": {},
   "source": [
    "5. How many global scopes are there in a Python program? How many local scopes?"
   ]
  },
  {
   "cell_type": "markdown",
   "id": "eb5f681e-fc89-4564-ad42-0a929d381ff1",
   "metadata": {},
   "source": [
    "Ans: \n",
    "1. Global Scope:\n",
    "\n",
    "The global scope is the outermost scope in a Python program.\n",
    "Variables defined in the global scope are accessible throughout the entire program, including inside functions.\n",
    "The global scope is created when the program starts, and it lasts until the program terminates.\n",
    "\n",
    "\n",
    "2. Local scopes:\n",
    "\n",
    "Local scopes are created whenever a function is called or when a code block is entered (e.g., inside loops or conditional statements).\n",
    "Each function or code block has its own local scope.\n",
    "Variables defined within a local scope are only accessible within that specific scope.\n",
    "Once the function call or code block is completed, the local scope is destroyed, and the variables within it are no longer accessible."
   ]
  },
  {
   "cell_type": "markdown",
   "id": "0c081222-6b8f-41d1-b257-c6c15574bf59",
   "metadata": {},
   "source": [
    "#### 6. What happens to variables in a local scope when the function call returns?"
   ]
  },
  {
   "cell_type": "code",
   "execution_count": null,
   "id": "28d51ef3-d886-4ab0-877f-3e48aba07575",
   "metadata": {},
   "outputs": [],
   "source": [
    "Ans: When a function call returns in Python, the local variables defined within the function's local scope are destroyed or \n",
    "deallocated. The memory occupied by these local variables is released, and the variables become \n",
    "inaccessible once the function call is \n",
    "completed."
   ]
  },
  {
   "cell_type": "markdown",
   "id": "f33d8425-dc3d-4602-b927-24ce6af71f81",
   "metadata": {},
   "source": [
    "#### 7. What is the concept of a return value? Is it possible to have a return value in an expression?"
   ]
  },
  {
   "cell_type": "markdown",
   "id": "c01efdae-3125-4066-a634-b67109888a55",
   "metadata": {},
   "source": [
    "The concept of a return value in programming refers to the value that a function sends back or \"returns\" after it completes its execution. When a function is called, it can perform computations or operations and optionally provide a result or value as its output.\n",
    "\n",
    "The return value serves as the result of the function's execution, which can be used in various ways, such as assigning it to a variable, using it in an expression, or passing it as an argument to another function.\n",
    "\n",
    "Yes, it is possible to have a return value in an expression. The return value of a function can be directly used within an expression just like any other value. This allows to use the function's output in calculations, comparisons, or any other operations within the program."
   ]
  },
  {
   "cell_type": "code",
   "execution_count": 10,
   "id": "d634ad11-e433-47df-8f3f-7786995480e2",
   "metadata": {},
   "outputs": [
    {
     "name": "stdout",
     "output_type": "stream",
     "text": [
      "16\n"
     ]
    }
   ],
   "source": [
    "#Example:\n",
    "def add_num(a, b):\n",
    "    return a + b\n",
    "\n",
    "result = add_num(5, 3)  # Function call with return value\n",
    "total = result * 2  # Using the return value in an expression\n",
    "\n",
    "print(total)  "
   ]
  },
  {
   "cell_type": "markdown",
   "id": "a23f7ee4-d526-4df9-8c49-a3ed2ec7890f",
   "metadata": {},
   "source": [
    " 8. If a function does not have a return statement, what is the return value of a call to that function?"
   ]
  },
  {
   "cell_type": "code",
   "execution_count": null,
   "id": "1861dad2-d5e4-49f3-a587-d749c0cd6bfb",
   "metadata": {},
   "outputs": [],
   "source": [
    "Ans: If a function does not have a return statement, the return value of a call to that function is None.\n",
    "None is a special value in Python that represents the absence of a value or a null value. "
   ]
  },
  {
   "cell_type": "markdown",
   "id": "479fc8eb-cd5d-4b64-8c19-051e986aaef7",
   "metadata": {},
   "source": [
    "### 9. How do you make a function variable refer to the global variable?"
   ]
  },
  {
   "cell_type": "markdown",
   "id": "9ed0efef-b0c6-4c6b-ab81-25343b935dec",
   "metadata": {},
   "source": [
    "Ans: To make a function variable refer to the global variable with the same name, we can use the global keyword. The global keyword allows us to explicitly specify that a variable inside a function should refer to the global variable rather than creating a new local variable."
   ]
  },
  {
   "cell_type": "code",
   "execution_count": 15,
   "id": "552d20fc-f090-4907-9bad-7dc7d596b00f",
   "metadata": {},
   "outputs": [
    {
     "name": "stdout",
     "output_type": "stream",
     "text": [
      "10\n",
      "20\n"
     ]
    }
   ],
   "source": [
    "x = 10 #global variable\n",
    "\n",
    "def fun():\n",
    "    global x #declared as global variable\n",
    "    x = 20\n",
    "print(x) # o/p will be 10 i.e initial value\n",
    "fun()\n",
    "print(x)  #o/p will be 20 i.e modified value"
   ]
  },
  {
   "cell_type": "markdown",
   "id": "703f0cd3-d84d-4f04-85dc-191acf6237b5",
   "metadata": {},
   "source": [
    "10. What is the data type of None?"
   ]
  },
  {
   "cell_type": "markdown",
   "id": "eed72974-b1d1-4633-a322-5cac1d59f005",
   "metadata": {},
   "source": [
    "Ans: Nontype, None is a special constant that represents the absence of a value or a null value and its type\n",
    "     is Nontype."
   ]
  },
  {
   "cell_type": "code",
   "execution_count": 20,
   "id": "bf1c1d11-be4d-4087-a575-dfa55fd5717d",
   "metadata": {},
   "outputs": [
    {
     "name": "stdout",
     "output_type": "stream",
     "text": [
      "<class 'NoneType'>\n"
     ]
    }
   ],
   "source": [
    "print(type(None))"
   ]
  },
  {
   "cell_type": "markdown",
   "id": "9ba60b13-bc62-460a-943f-92e46bbb0aa3",
   "metadata": {},
   "source": [
    "11. What does the sentence import areallyourpetsnamederic do?"
   ]
  },
  {
   "cell_type": "markdown",
   "id": "94e0414d-52c2-499f-90dd-ac4a8744be30",
   "metadata": {},
   "source": [
    "Ans: The sentence \"import areallyourpetsnamederic\" does not have any inherent meaning in Python. It does not correspond to any valid Python syntax or built-in functionality."
   ]
  },
  {
   "cell_type": "code",
   "execution_count": 21,
   "id": "30d58584-6fba-4aa6-9f0b-dbe7aedab42c",
   "metadata": {},
   "outputs": [
    {
     "ename": "ModuleNotFoundError",
     "evalue": "No module named 'areallyourpetsnamederic'",
     "output_type": "error",
     "traceback": [
      "\u001b[0;31m---------------------------------------------------------------------------\u001b[0m",
      "\u001b[0;31mModuleNotFoundError\u001b[0m                       Traceback (most recent call last)",
      "Cell \u001b[0;32mIn [21], line 1\u001b[0m\n\u001b[0;32m----> 1\u001b[0m \u001b[38;5;28;01mimport\u001b[39;00m \u001b[38;5;21;01mareallyourpetsnamederic\u001b[39;00m\n",
      "\u001b[0;31mModuleNotFoundError\u001b[0m: No module named 'areallyourpetsnamederic'"
     ]
    }
   ],
   "source": [
    "import areallyourpetsnamederic"
   ]
  },
  {
   "cell_type": "markdown",
   "id": "e3e3a9cd-7cbd-4a63-8759-ce253df23d60",
   "metadata": {},
   "source": [
    "12. If you had a bacon() feature in a spam module, what would you call it after importing spam?"
   ]
  },
  {
   "cell_type": "code",
   "execution_count": null,
   "id": "eda75c14-06cb-4bf2-8399-855d6cbe3e13",
   "metadata": {},
   "outputs": [],
   "source": [
    "#Ans:\n",
    "\n",
    "import spam\n",
    "\n",
    "spam.bacon()\n"
   ]
  },
  {
   "cell_type": "markdown",
   "id": "d415287c-2fd7-4400-bc9e-9a013f18cf04",
   "metadata": {},
   "source": [
    "13. What can you do to save a programme from crashing if it encounters an error?"
   ]
  },
  {
   "cell_type": "code",
   "execution_count": null,
   "id": "e9a25781-7d4e-4a7a-ad01-91bed4c6d70d",
   "metadata": {},
   "outputs": [],
   "source": [
    "To save a program from crashing when it encounters an error, we can use error handling techniques to catch and handle exceptions \n",
    "that might occur during the program's execution. "
   ]
  },
  {
   "cell_type": "markdown",
   "id": "2856d8d6-23f3-4eb2-9a3f-a16ff46ea487",
   "metadata": {},
   "source": [
    "14. What is the purpose of the try clause? What is the purpose of the except clause?"
   ]
  },
  {
   "cell_type": "markdown",
   "id": "04da1260-c365-44bd-9f03-ba55be8c90f4",
   "metadata": {},
   "source": [
    "Ans: \n",
    "1. The purpose of the try clause is to enclose code that may raise an exception.\n",
    "2. The purpose of the except clause is to define how to handle exceptions that occur within the associated try block.\n",
    "3. The try clause identifies potential exceptions, and the except clause specifies the code to execute when those exceptions are raised.\n",
    "4. Error handling using try-except allows you to handle exceptions gracefully and prevent program crashes."
   ]
  },
  {
   "cell_type": "code",
   "execution_count": null,
   "id": "ac5675af-4404-4e61-ba27-36c9760e5d9b",
   "metadata": {},
   "outputs": [],
   "source": []
  }
 ],
 "metadata": {
  "kernelspec": {
   "display_name": "Python 3 (ipykernel)",
   "language": "python",
   "name": "python3"
  },
  "language_info": {
   "codemirror_mode": {
    "name": "ipython",
    "version": 3
   },
   "file_extension": ".py",
   "mimetype": "text/x-python",
   "name": "python",
   "nbconvert_exporter": "python",
   "pygments_lexer": "ipython3",
   "version": "3.10.6"
  }
 },
 "nbformat": 4,
 "nbformat_minor": 5
}
