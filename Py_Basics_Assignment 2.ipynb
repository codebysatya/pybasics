{
 "cells": [
  {
   "cell_type": "markdown",
   "id": "a0ad9e0e-804d-45e8-aa6e-0edd03d02713",
   "metadata": {},
   "source": [
    "# Assignment_2_Python Basics"
   ]
  },
  {
   "cell_type": "markdown",
   "id": "88a03a2b-c825-4804-84dd-676693a911a2",
   "metadata": {},
   "source": [
    "#### 1. .What are the two values of the Boolean data type? How do you write them?"
   ]
  },
  {
   "cell_type": "markdown",
   "id": "6402e345-ab60-4f94-aa79-5483f9922230",
   "metadata": {},
   "source": [
    "Ans: Two values of the Boolean data types are TRUE and FALSE, we write it as follows:"
   ]
  },
  {
   "cell_type": "code",
   "execution_count": 1,
   "id": "90949950-30fd-46f2-8534-084385840051",
   "metadata": {},
   "outputs": [],
   "source": [
    "x = True\n",
    "y = False"
   ]
  },
  {
   "cell_type": "markdown",
   "id": "6622a18c-5b8a-4ab7-bd3b-0bcb3211ed99",
   "metadata": {},
   "source": [
    "#### 2. What are the three different types of Boolean operators?"
   ]
  },
  {
   "cell_type": "markdown",
   "id": "82a7375b-affb-47be-bd12-ef71857f8bd5",
   "metadata": {},
   "source": [
    "Ans: Three different types of Boolean Operators are:\n",
    "    AND, OR, NOT"
   ]
  },
  {
   "cell_type": "markdown",
   "id": "205d04f0-d7a4-494c-8c98-168b83e23ed0",
   "metadata": {},
   "source": [
    "#### 3. Make a list of each Boolean operator&#39;s truth tables (i.e. every possible combination of Boolean values for the operator and what it evaluate )."
   ]
  },
  {
   "cell_type": "code",
   "execution_count": null,
   "id": "623f893d-4640-41b0-8f71-42633eeb35c9",
   "metadata": {},
   "outputs": [],
   "source": [
    "Ans: AND Truth Table:\n",
    "\n",
    "Operand 1\tOperand 2\tResult\n",
    "True\t    True\t    True\n",
    "True\t    False\t    False\n",
    "False\t    True\t    False\n",
    "False\t    False\t    False\n",
    "\n",
    "OR Truth Table:\n",
    "\n",
    "Operand 1\tOperand 2\tResult\n",
    "True\t    True\t    True\n",
    "True\t    False\t    True\n",
    "False\t    True\t    True\n",
    "False\t    False\t    False\n",
    "\n",
    "NOT Truth Table:\n",
    "\n",
    "Operand\tResult\n",
    "True\tFalse\n",
    "False\tTrue"
   ]
  },
  {
   "cell_type": "markdown",
   "id": "876f66ec-52b5-4461-ac0a-36421d777be1",
   "metadata": {},
   "source": [
    "#### 4. What are the values of the following expressions?"
   ]
  },
  {
   "cell_type": "code",
   "execution_count": null,
   "id": "047006b7-9677-490e-aa55-4e9c8b92ee4c",
   "metadata": {},
   "outputs": [],
   "source": [
    "Ans: \n",
    "\n",
    "(5 > 4) and (3 == 5)                : False\n",
    "\n",
    "not (5 > 4)                         : False\n",
    "\n",
    "(5 > 4) or (3 == 5)                 : True\n",
    "\n",
    "not ((5 > 4) or (3 == 5))           : False\n",
    "\n",
    "(True and True) and (True == False) : False\n",
    "\n",
    "(not False) or (not True)           : True"
   ]
  },
  {
   "cell_type": "markdown",
   "id": "c4d40057-2700-4354-a1ca-1d18cd4f2594",
   "metadata": {},
   "source": [
    "5. What are the six comparison operators?"
   ]
  },
  {
   "cell_type": "raw",
   "id": "7ef4b1e6-71f3-4271-896d-0de2cd5d3f80",
   "metadata": {},
   "source": [
    "Ans: Six comparison operators are:\n",
    "\n",
    "1. Greater than - >\n",
    "2. Smaller than - <\n",
    "3. Greater than or equal to - >=\n",
    "4. Smaller than or equal to - =<\n",
    "5. Equal to - ==\n",
    "6. Not equal to - !="
   ]
  },
  {
   "cell_type": "markdown",
   "id": "c47b54b4-4ef3-4df2-b5e5-b0cca035bdd3",
   "metadata": {},
   "source": [
    "#### 6. How do you tell the difference between the equal to and assignment operators?Describe a condition and when you would use one."
   ]
  },
  {
   "cell_type": "code",
   "execution_count": null,
   "id": "a828185f-e261-4ac6-8562-a6bc94f47ec1",
   "metadata": {},
   "outputs": [],
   "source": [
    "Ans: \n",
    "\n",
    "Equal to operator is : ==\n",
    "Assignment operator  : =\n"
   ]
  },
  {
   "cell_type": "code",
   "execution_count": 13,
   "id": "72b182d1-5615-40f4-aaff-cf5e07469af6",
   "metadata": {},
   "outputs": [
    {
     "name": "stdout",
     "output_type": "stream",
     "text": [
      "5\n"
     ]
    }
   ],
   "source": [
    "# Equal to operator example condition:\n",
    "\n",
    "3+2 == 1+4 # here we are using equal to operator to see wheather sum of both codition are equal or not\n",
    "\n",
    "# Assignment operator \n",
    "\n",
    "x = 1+4 # here we are assiging 1+4 value in x and printing later on\n",
    "\n",
    "print(x)"
   ]
  },
  {
   "cell_type": "markdown",
   "id": "330efe2a-d102-422c-911a-7c5a11d37710",
   "metadata": {},
   "source": [
    "#### 7. Identify the three blocks in this code:"
   ]
  },
  {
   "cell_type": "code",
   "execution_count": null,
   "id": "f26e895b-350d-4f61-a7a2-4fc2040a0b17",
   "metadata": {},
   "outputs": [],
   "source": [
    "spam = 0\n",
    "\n",
    "                   #BLOCK 1\n",
    "if spam == 10:\n",
    "    print('eggs')\n",
    "\n",
    "                   #BLOCK 2\n",
    "if spam > 5:\n",
    "    print('bacon')\n",
    "\n",
    "                   #BLOCK 3\n",
    "else:\n",
    "    print('ham')\n",
    "    print('spam')\n",
    "    print('spam')"
   ]
  },
  {
   "cell_type": "markdown",
   "id": "81058bdb-ad39-4dd5-af02-21bb06bc6b78",
   "metadata": {},
   "source": [
    "#### 8. Write code that prints Hello if 1 is stored in spam, prints Howdy if 2 is stored in spam, and prints Greetings! if anything else is stored in spam."
   ]
  },
  {
   "cell_type": "code",
   "execution_count": null,
   "id": "1b5c809b-ba57-41c3-b6f4-62bf6f1de1ad",
   "metadata": {},
   "outputs": [],
   "source": [
    "#Ans: \n",
    "\n",
    "spam = input(\"Enter 1 or 2 or Any thing else: \")\n",
    "\n",
    "if spam == 1:\n",
    "    print(\"Hello\")\n",
    "elif spam == 2:\n",
    "    print(\"Howdy\")\n",
    "else:\n",
    "    print(\"Greetings!\")"
   ]
  },
  {
   "cell_type": "markdown",
   "id": "16443cd6-7c8f-4a7c-a550-dfc5d0d72d59",
   "metadata": {},
   "source": [
    "#### 9.If your programme is stuck in an endless loop, what keys you’ll press?"
   ]
  },
  {
   "cell_type": "markdown",
   "id": "c3fb1720-08b8-4bb5-a6d7-36b2e3b6a41f",
   "metadata": {},
   "source": [
    "Ans: Pressing Ctrl + C (the Ctrl key and the C key simultaneously) sends a KeyboardInterrupt signal to the Python interpreter, which will terminate the program's execution and bring you back to the command prompt or the development environment.\n",
    "\n",
    "(if Python program is running in an integrated development environment (IDE) or a code editor, there may be specific features or options to stop program execution within the environment itself.)"
   ]
  },
  {
   "cell_type": "markdown",
   "id": "658ca88c-5411-49f0-8260-66890e9a1799",
   "metadata": {},
   "source": [
    "### 10. How can you tell the difference between break and continue?"
   ]
  },
  {
   "cell_type": "markdown",
   "id": "4cfdfb5b-743c-46d8-b48a-8e6629fb82cb",
   "metadata": {},
   "source": [
    "### Ans: \n",
    "Break Statement:\n",
    "    When encountered inside a loop, break immediately terminates the loop's execution and exits the loop. The program resumes execution from the next statement after the loop. It is typically used when a specific condition is met, and you want to exit the loop prematurely.\n",
    "    \n",
    "Continue Statement:\n",
    "    When encountered inside a loop, continue skips the remaining code within the loop for the current iteration. The program proceeds to the next iteration of the loop. It is useful when you want to skip some specific iteration or conditionally skip certain code within the loop.\n",
    "    "
   ]
  },
  {
   "cell_type": "code",
   "execution_count": 20,
   "id": "8d6f191c-9b65-4b63-9875-9ffd1d600ca9",
   "metadata": {},
   "outputs": [
    {
     "name": "stdout",
     "output_type": "stream",
     "text": [
      "1\n",
      "2\n",
      "3\n"
     ]
    }
   ],
   "source": [
    "for i in range(1, 6): # Break Example\n",
    "    if i == 4:\n",
    "        break\n",
    "    print(i)\n"
   ]
  },
  {
   "cell_type": "code",
   "execution_count": 21,
   "id": "2d25a40e-0592-4e38-8bcd-c6f25bac81e1",
   "metadata": {},
   "outputs": [
    {
     "name": "stdout",
     "output_type": "stream",
     "text": [
      "1\n",
      "2\n",
      "4\n",
      "5\n"
     ]
    }
   ],
   "source": [
    "for i in range(1, 6): # Continue Example\n",
    "    if i == 3:\n",
    "        continue\n",
    "    print(i)\n",
    "    "
   ]
  },
  {
   "cell_type": "markdown",
   "id": "e270c6af-52a9-488b-831c-0e71d576b44d",
   "metadata": {},
   "source": [
    "### 11. In a for loop, what is the difference between range(10), range(0, 10), and range(0, 10, 1)?"
   ]
  },
  {
   "cell_type": "markdown",
   "id": "e5c34ba8-7a46-4ead-a10a-4f181fd8c014",
   "metadata": {},
   "source": [
    "### Ans: \n",
    "range(10):\n",
    "\n",
    "This expression generates a sequence of numbers starting from 0 (inclusive) up to 10 (exclusive) with a default step size of 1. The start value is not explicitly provided, and the step size is assumed to be 1 if not specified."
   ]
  },
  {
   "cell_type": "code",
   "execution_count": 5,
   "id": "a8e04791-51b3-46c8-8bd2-0e0431eb1bd5",
   "metadata": {},
   "outputs": [
    {
     "name": "stdout",
     "output_type": "stream",
     "text": [
      "0\n",
      "1\n",
      "2\n",
      "3\n",
      "4\n",
      "5\n",
      "6\n",
      "7\n",
      "8\n",
      "9\n"
     ]
    }
   ],
   "source": [
    "#Example:\n",
    "for i in range(10):\n",
    "    print(i)\n"
   ]
  },
  {
   "cell_type": "markdown",
   "id": "e54c9e90-ee1a-41c6-960a-1aa7114a6ca0",
   "metadata": {},
   "source": [
    "range(0, 10):\n",
    "\n",
    "This expression generates a sequence of numbers starting from 0 (inclusive) up to 10 (exclusive) with a step size of 1.\n",
    "Both the start value (0) and the end value (10) are explicitly specified."
   ]
  },
  {
   "cell_type": "code",
   "execution_count": 6,
   "id": "fbc14bac-219f-41a1-968c-5029b4c36216",
   "metadata": {},
   "outputs": [
    {
     "name": "stdout",
     "output_type": "stream",
     "text": [
      "0\n",
      "1\n",
      "2\n",
      "3\n",
      "4\n",
      "5\n",
      "6\n",
      "7\n",
      "8\n",
      "9\n"
     ]
    }
   ],
   "source": [
    "for i in range(0, 10):\n",
    "    print(i)"
   ]
  },
  {
   "cell_type": "markdown",
   "id": "81969af5-8491-483e-8f66-af3b33464aef",
   "metadata": {},
   "source": [
    "range(0, 10, 1):\n",
    "\n",
    "This expression generates a sequence of numbers starting from 0 (inclusive) up to 10 (exclusive) with a step size of 1.\n",
    "Both the start value (0), the end value (10), and the step size (1) are explicitly specified.\n",
    "Specifying the step size allows to iterate over the sequence with a different increment value if desired."
   ]
  },
  {
   "cell_type": "code",
   "execution_count": 7,
   "id": "1f7ce3a8-8fc0-4f06-b125-e87d469b993f",
   "metadata": {},
   "outputs": [
    {
     "name": "stdout",
     "output_type": "stream",
     "text": [
      "0\n",
      "1\n",
      "2\n",
      "3\n",
      "4\n",
      "5\n",
      "6\n",
      "7\n",
      "8\n",
      "9\n"
     ]
    }
   ],
   "source": [
    "for i in range(0, 10, 1):\n",
    "    print(i)"
   ]
  },
  {
   "cell_type": "markdown",
   "id": "4ff63683-02a4-4800-a534-3de1094bfb00",
   "metadata": {},
   "source": [
    "In summary, range(10), range(0, 10), and range(0, 10, 1) all generate a sequence of numbers from 0 to 9. The main difference lies in the way they are expressed, where the start, end, and step size are either implicitly assumed or explicitly specified."
   ]
  },
  {
   "cell_type": "markdown",
   "id": "32cdb2d5-7b38-4370-8edc-0cdcc2455b6b",
   "metadata": {},
   "source": [
    "### 12. Write a short program that prints the numbers 1 to 10 using a for loop. Then write an equivalent program that prints the numbers 1 to 10 using a while loop."
   ]
  },
  {
   "cell_type": "code",
   "execution_count": 13,
   "id": "b62e763f-dc8c-43e7-b185-4541b9bff16a",
   "metadata": {},
   "outputs": [
    {
     "name": "stdout",
     "output_type": "stream",
     "text": [
      "1\n",
      "2\n",
      "3\n",
      "4\n",
      "5\n",
      "6\n",
      "7\n",
      "8\n",
      "9\n",
      "10\n"
     ]
    }
   ],
   "source": [
    "#Ans:\n",
    "\n",
    "for i in range(1,11): # Using for loop \n",
    "    print(i)"
   ]
  },
  {
   "cell_type": "code",
   "execution_count": 23,
   "id": "64bb2fb3-5148-4f6b-9055-5fa982aac660",
   "metadata": {},
   "outputs": [
    {
     "name": "stdout",
     "output_type": "stream",
     "text": [
      "1\n",
      "2\n",
      "3\n",
      "4\n",
      "5\n",
      "6\n",
      "7\n",
      "8\n",
      "9\n",
      "10\n"
     ]
    }
   ],
   "source": [
    "#IMPORTANT \n",
    "\n",
    "i=1    # using while loop \n",
    "while i <= 10:\n",
    "    print(i)\n",
    "    i=i+1"
   ]
  },
  {
   "cell_type": "markdown",
   "id": "68adff74-e546-4ece-88d8-892e46226174",
   "metadata": {},
   "source": [
    "### 13. If you had a function named bacon() inside a module named spam, how would you call it after importing spam?"
   ]
  },
  {
   "cell_type": "code",
   "execution_count": null,
   "id": "bc8bd244-4290-4a70-aa6b-5a5e46c5905d",
   "metadata": {},
   "outputs": [],
   "source": [
    "#Ans:\n",
    "\n",
    "import spam     #here we import spam\n",
    "spam.bacon()    #here we call bacon() after importing spam"
   ]
  },
  {
   "cell_type": "markdown",
   "id": "729154f7-6dbd-48b4-a4c5-56c2abc03ac3",
   "metadata": {},
   "source": [
    "b"
   ]
  },
  {
   "cell_type": "code",
   "execution_count": null,
   "id": "9620b91f-527c-4fd7-b58f-e47de9abe63e",
   "metadata": {},
   "outputs": [],
   "source": []
  }
 ],
 "metadata": {
  "kernelspec": {
   "display_name": "Python 3 (ipykernel)",
   "language": "python",
   "name": "python3"
  },
  "language_info": {
   "codemirror_mode": {
    "name": "ipython",
    "version": 3
   },
   "file_extension": ".py",
   "mimetype": "text/x-python",
   "name": "python",
   "nbconvert_exporter": "python",
   "pygments_lexer": "ipython3",
   "version": "3.10.6"
  }
 },
 "nbformat": 4,
 "nbformat_minor": 5
}
